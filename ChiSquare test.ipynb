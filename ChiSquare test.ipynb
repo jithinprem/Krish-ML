{
 "cells": [
  {
   "cell_type": "markdown",
   "id": "835f8adc",
   "metadata": {},
   "source": [
    "# Chi-test"
   ]
  },
  {
   "cell_type": "code",
   "execution_count": 1,
   "id": "5d7c39bc",
   "metadata": {},
   "outputs": [],
   "source": [
    "# description :\n",
    "# test is performed when 2 categroical features are compared from a single \n",
    "# population , used to determine if there is a siginificant association between them\n",
    "\n",
    "# additional knowledge\n",
    "# dataset_table = pd.crosstab(dataset['sex'],['smoker'])\n",
    "# print(dataset_table)\n",
    "# dataset_table.values, (remember the last time we actually used values, i think it is used on numpy arrays to get normal arrays)\n",
    "# Observed_Values = dataset_table.values\n",
    "# val = stats.chi2_contigency(dataset_table)\n",
    "# it has a 2d matrix in output which says that, ideally that should have been the output\n",
    "# this value is Expected value\n",
    "# number_of_rows = len(dataset_table.iloc[0:2,0])\n",
    "# numebr of columns = len(data_table.iloc[0, 0:2])\n",
    "# ddof = (no_of_rows-1)* (no_of_columns-1) --> degree of freedom, we will require in further calculation\n",
    "# the chi_square is calculated as SUMMATION[(observed_val - expected_val)^2/expected_val] \n",
    "# alpha is like a learning rate kind of , basically tells about varience\n",
    "# just apply the formula \n",
    "\n",
    "# from here you can go for two techniques\n",
    "# critical_value = chi2.ppf(q=1-alpha, df=ddof)\n",
    "#           or\n",
    "# p_value = 1-chi2.cdf(x=chi_square, df = ddof)\n",
    "\n",
    "# p_value follows the same of above 0.05 eg\n",
    "# for critical_value it should always be smaller than chi_square for h0 to get accepted\n"
   ]
  },
  {
   "cell_type": "code",
   "execution_count": 2,
   "id": "fd556f7e",
   "metadata": {},
   "outputs": [],
   "source": [
    "import numpy as np\n",
    "import pandas as pd\n",
    "import matplotlib.pyplot as plt\n",
    "import seaborn as sns\n",
    "import scipy.stats as stats\n"
   ]
  },
  {
   "cell_type": "code",
   "execution_count": 3,
   "id": "ef901c26",
   "metadata": {},
   "outputs": [],
   "source": [
    "dataset = sns.load_dataset('tips')"
   ]
  },
  {
   "cell_type": "code",
   "execution_count": 4,
   "id": "49077871",
   "metadata": {},
   "outputs": [
    {
     "data": {
      "text/html": [
       "<div>\n",
       "<style scoped>\n",
       "    .dataframe tbody tr th:only-of-type {\n",
       "        vertical-align: middle;\n",
       "    }\n",
       "\n",
       "    .dataframe tbody tr th {\n",
       "        vertical-align: top;\n",
       "    }\n",
       "\n",
       "    .dataframe thead th {\n",
       "        text-align: right;\n",
       "    }\n",
       "</style>\n",
       "<table border=\"1\" class=\"dataframe\">\n",
       "  <thead>\n",
       "    <tr style=\"text-align: right;\">\n",
       "      <th></th>\n",
       "      <th>total_bill</th>\n",
       "      <th>tip</th>\n",
       "      <th>sex</th>\n",
       "      <th>smoker</th>\n",
       "      <th>day</th>\n",
       "      <th>time</th>\n",
       "      <th>size</th>\n",
       "    </tr>\n",
       "  </thead>\n",
       "  <tbody>\n",
       "    <tr>\n",
       "      <th>0</th>\n",
       "      <td>16.99</td>\n",
       "      <td>1.01</td>\n",
       "      <td>Female</td>\n",
       "      <td>No</td>\n",
       "      <td>Sun</td>\n",
       "      <td>Dinner</td>\n",
       "      <td>2</td>\n",
       "    </tr>\n",
       "    <tr>\n",
       "      <th>1</th>\n",
       "      <td>10.34</td>\n",
       "      <td>1.66</td>\n",
       "      <td>Male</td>\n",
       "      <td>No</td>\n",
       "      <td>Sun</td>\n",
       "      <td>Dinner</td>\n",
       "      <td>3</td>\n",
       "    </tr>\n",
       "    <tr>\n",
       "      <th>2</th>\n",
       "      <td>21.01</td>\n",
       "      <td>3.50</td>\n",
       "      <td>Male</td>\n",
       "      <td>No</td>\n",
       "      <td>Sun</td>\n",
       "      <td>Dinner</td>\n",
       "      <td>3</td>\n",
       "    </tr>\n",
       "    <tr>\n",
       "      <th>3</th>\n",
       "      <td>23.68</td>\n",
       "      <td>3.31</td>\n",
       "      <td>Male</td>\n",
       "      <td>No</td>\n",
       "      <td>Sun</td>\n",
       "      <td>Dinner</td>\n",
       "      <td>2</td>\n",
       "    </tr>\n",
       "  </tbody>\n",
       "</table>\n",
       "</div>"
      ],
      "text/plain": [
       "   total_bill   tip     sex smoker  day    time  size\n",
       "0       16.99  1.01  Female     No  Sun  Dinner     2\n",
       "1       10.34  1.66    Male     No  Sun  Dinner     3\n",
       "2       21.01  3.50    Male     No  Sun  Dinner     3\n",
       "3       23.68  3.31    Male     No  Sun  Dinner     2"
      ]
     },
     "execution_count": 4,
     "metadata": {},
     "output_type": "execute_result"
    }
   ],
   "source": [
    "dataset.head(4)"
   ]
  },
  {
   "cell_type": "code",
   "execution_count": 5,
   "id": "1db0cee5",
   "metadata": {},
   "outputs": [],
   "source": [
    "# lets see if there is any relation between the sex and smoker"
   ]
  },
  {
   "cell_type": "code",
   "execution_count": 6,
   "id": "2b64eb24",
   "metadata": {},
   "outputs": [],
   "source": [
    "observed = pd.crosstab(dataset['sex'], dataset['smoker'])"
   ]
  },
  {
   "cell_type": "code",
   "execution_count": 12,
   "id": "f2cf8c6d",
   "metadata": {},
   "outputs": [
    {
     "data": {
      "text/html": [
       "<div>\n",
       "<style scoped>\n",
       "    .dataframe tbody tr th:only-of-type {\n",
       "        vertical-align: middle;\n",
       "    }\n",
       "\n",
       "    .dataframe tbody tr th {\n",
       "        vertical-align: top;\n",
       "    }\n",
       "\n",
       "    .dataframe thead th {\n",
       "        text-align: right;\n",
       "    }\n",
       "</style>\n",
       "<table border=\"1\" class=\"dataframe\">\n",
       "  <thead>\n",
       "    <tr style=\"text-align: right;\">\n",
       "      <th>smoker</th>\n",
       "      <th>Yes</th>\n",
       "      <th>No</th>\n",
       "    </tr>\n",
       "    <tr>\n",
       "      <th>sex</th>\n",
       "      <th></th>\n",
       "      <th></th>\n",
       "    </tr>\n",
       "  </thead>\n",
       "  <tbody>\n",
       "    <tr>\n",
       "      <th>Male</th>\n",
       "      <td>60</td>\n",
       "      <td>97</td>\n",
       "    </tr>\n",
       "    <tr>\n",
       "      <th>Female</th>\n",
       "      <td>33</td>\n",
       "      <td>54</td>\n",
       "    </tr>\n",
       "  </tbody>\n",
       "</table>\n",
       "</div>"
      ],
      "text/plain": [
       "smoker  Yes  No\n",
       "sex            \n",
       "Male     60  97\n",
       "Female   33  54"
      ]
     },
     "execution_count": 12,
     "metadata": {},
     "output_type": "execute_result"
    }
   ],
   "source": [
    "observed"
   ]
  },
  {
   "cell_type": "code",
   "execution_count": 13,
   "id": "fc93f870",
   "metadata": {},
   "outputs": [],
   "source": [
    "exp = stats.chi2_contingency(observed)"
   ]
  },
  {
   "cell_type": "code",
   "execution_count": 14,
   "id": "a8c5e12a",
   "metadata": {},
   "outputs": [
    {
     "data": {
      "text/plain": [
       "(0.008763290531773594,\n",
       " 0.925417020494423,\n",
       " 1,\n",
       " array([[59.84016393, 97.15983607],\n",
       "        [33.15983607, 53.84016393]]))"
      ]
     },
     "execution_count": 14,
     "metadata": {},
     "output_type": "execute_result"
    }
   ],
   "source": [
    "exp"
   ]
  },
  {
   "cell_type": "code",
   "execution_count": 15,
   "id": "154b0e24",
   "metadata": {},
   "outputs": [],
   "source": [
    "expected = exp[3]"
   ]
  },
  {
   "cell_type": "code",
   "execution_count": 16,
   "id": "1f253790",
   "metadata": {},
   "outputs": [
    {
     "data": {
      "text/plain": [
       "1"
      ]
     },
     "execution_count": 16,
     "metadata": {},
     "output_type": "execute_result"
    }
   ],
   "source": [
    "expected\n",
    "shape = np.shape(expected)\n",
    "ddof = (shape[0]-1)*(shape[1]-1)   # degree of freedom, its n-1 for 1d so it would be (n-1)*(m-1) for 2d\n",
    "ddof"
   ]
  },
  {
   "cell_type": "code",
   "execution_count": 17,
   "id": "4b5a7f8c",
   "metadata": {},
   "outputs": [],
   "source": [
    "# this is how we calculate the chisquare, only thing here is we are applying it on each of the elements of the 2d matrix, don't\n",
    "# get confused because of that..\n",
    "chi_square = np.sum(np.array((observed-expected)*(observed-expected)/expected))"
   ]
  },
  {
   "cell_type": "code",
   "execution_count": 18,
   "id": "1074c59c",
   "metadata": {},
   "outputs": [
    {
     "data": {
      "text/plain": [
       "0.001934818536627623"
      ]
     },
     "execution_count": 18,
     "metadata": {},
     "output_type": "execute_result"
    }
   ],
   "source": [
    "chi_square"
   ]
  },
  {
   "cell_type": "code",
   "execution_count": 22,
   "id": "6390a92d",
   "metadata": {},
   "outputs": [],
   "source": [
    "# above we obtained the chi_square value, I used numpy to simplify krish calculations"
   ]
  },
  {
   "cell_type": "code",
   "execution_count": 26,
   "id": "0ede7a67",
   "metadata": {},
   "outputs": [],
   "source": [
    "from scipy.stats import chi2"
   ]
  },
  {
   "cell_type": "code",
   "execution_count": 27,
   "id": "2de306e9",
   "metadata": {},
   "outputs": [],
   "source": [
    "alpha = 0.05     # like a learning parameter"
   ]
  },
  {
   "cell_type": "code",
   "execution_count": 31,
   "id": "49d320f1",
   "metadata": {},
   "outputs": [
    {
     "data": {
      "text/plain": [
       "3.841458820694124"
      ]
     },
     "execution_count": 31,
     "metadata": {},
     "output_type": "execute_result"
    }
   ],
   "source": [
    "# to consider our hypthosis true either see the p_value or just see if the critical value is enough greater than the chi_squre\n",
    "\n",
    "critical_value = chi2.ppf(q = 1-alpha, df= ddof)\n",
    "critical_value"
   ]
  },
  {
   "cell_type": "code",
   "execution_count": 29,
   "id": "742cf068",
   "metadata": {},
   "outputs": [
    {
     "data": {
      "text/plain": [
       "0.964915107315732"
      ]
     },
     "execution_count": 29,
     "metadata": {},
     "output_type": "execute_result"
    }
   ],
   "source": [
    "p_value = 1-chi2.cdf(x= chi_square, df=ddof)\n",
    "p_value"
   ]
  },
  {
   "cell_type": "code",
   "execution_count": 30,
   "id": "6c3ae06f",
   "metadata": {},
   "outputs": [
    {
     "name": "stdout",
     "output_type": "stream",
     "text": [
      "keep h0\n",
      "keep h0 ++\n"
     ]
    }
   ],
   "source": [
    "# the condition of acceptance and rejection ***\n",
    "if chi_square >= critical_value:\n",
    "    print(\"reject h0\")\n",
    "else:\n",
    "    print(\"keep h0\")\n",
    "if p_value <= alpha:\n",
    "    print(\"reject h0 ++\")\n",
    "else:\n",
    "    print(\"keep h0 ++\")"
   ]
  },
  {
   "cell_type": "code",
   "execution_count": null,
   "id": "7015c61d",
   "metadata": {},
   "outputs": [],
   "source": []
  }
 ],
 "metadata": {
  "kernelspec": {
   "display_name": "Python 3",
   "language": "python",
   "name": "python3"
  },
  "language_info": {
   "codemirror_mode": {
    "name": "ipython",
    "version": 3
   },
   "file_extension": ".py",
   "mimetype": "text/x-python",
   "name": "python",
   "nbconvert_exporter": "python",
   "pygments_lexer": "ipython3",
   "version": "3.8.8"
  }
 },
 "nbformat": 4,
 "nbformat_minor": 5
}
