{
 "cells": [
  {
   "cell_type": "markdown",
   "id": "2e633a1d",
   "metadata": {},
   "source": [
    "# T-test and correlation"
   ]
  },
  {
   "cell_type": "code",
   "execution_count": 1,
   "id": "006e0601",
   "metadata": {},
   "outputs": [],
   "source": [
    "# description:\n",
    "# t-test is used on one continous feature, that is when we want to find if there is any change in the mean of the value wrt some\n",
    "# other mean or something, now based on our comparison we will decide if our hypothesis is accepted or rejected..\n",
    "# for hypothesis select or reject we will be writing a simple python code to see if it falls above the value 0.05\n",
    "# if its less than 0.05 then we reject our null-hypothesis and accept alternate hypothesis\n",
    "\n",
    "# t-test is one of the tests that compare the null and alternate hypothesis, there are lot more, this is used when the value we\n",
    "# are considering is continous in nature\n",
    "# t-test further categorized as one sample test and two sample test\n",
    "# the one sample : uses one test data set\n",
    "# you have to import it from scipy.stats import ttest_1samp...\n",
    "# function ---- t_calc_value, p_calc_value = stats.ttest_1samp(age_sample, 30) ------- where age is the average we calc\n",
    "# two sample : uses and compares aganist two samples (we use the data of weight of student if increased to similar mean or not)\n",
    "# function ---- t_calc_value, p_calc_value = stats.ttest_ind(a=classAheight, b=classBheight, equal_var = False) //don't know equal_var\n",
    "\n",
    "# there is an additional category called PAIRED P TEST , used to test how different samples from the same group are\n",
    "# function ---- stats.ttest_rel(a=weighta, b=weightb)---------\n",
    "\n",
    "# corellation is calculated as df.corr(), then sns.pairplot(df) to visualize\n",
    "\n",
    "# additionl learned :\n",
    "# stats module import : import scipy.stats as stats\n",
    "# calculate the possion distribution \n",
    "# stats.poisson.rvs(loc= 18, mu = 35, size = 1500) -> gives a poisson distrubiton with min=18 max = 35 and total count = 1500\n"
   ]
  },
  {
   "cell_type": "code",
   "execution_count": 2,
   "id": "6a99f3ee",
   "metadata": {},
   "outputs": [],
   "source": [
    "import numpy as np\n",
    "import pandas as pd\n",
    "import matplotlib.pyplot as plt\n",
    "import seaborn as sns"
   ]
  },
  {
   "cell_type": "code",
   "execution_count": 40,
   "id": "e0fa949f",
   "metadata": {},
   "outputs": [],
   "source": [
    "import scipy.stats as stats"
   ]
  },
  {
   "cell_type": "code",
   "execution_count": 33,
   "id": "06940f2d",
   "metadata": {},
   "outputs": [],
   "source": [
    "ages = np.array(stats.poisson.rvs(loc=27, mu=35, size = 20))"
   ]
  },
  {
   "cell_type": "code",
   "execution_count": null,
   "id": "47d51f11",
   "metadata": {},
   "outputs": [],
   "source": []
  },
  {
   "cell_type": "code",
   "execution_count": 19,
   "id": "e9d08016",
   "metadata": {},
   "outputs": [
    {
     "data": {
      "text/plain": [
       "array([65, 59, 62, 56, 66, 65, 60, 55, 60, 70, 57, 72, 64, 58, 62, 71, 64,\n",
       "       67, 68, 73])"
      ]
     },
     "execution_count": 19,
     "metadata": {},
     "output_type": "execute_result"
    }
   ],
   "source": [
    "ages"
   ]
  },
  {
   "cell_type": "code",
   "execution_count": 34,
   "id": "dd5c9321",
   "metadata": {},
   "outputs": [],
   "source": [
    "from scipy.stats import ttest_1samp"
   ]
  },
  {
   "cell_type": "code",
   "execution_count": 35,
   "id": "781b62f4",
   "metadata": {},
   "outputs": [
    {
     "data": {
      "text/plain": [
       "61.45"
      ]
     },
     "execution_count": 35,
     "metadata": {},
     "output_type": "execute_result"
    }
   ],
   "source": [
    "np.average(ages)"
   ]
  },
  {
   "cell_type": "code",
   "execution_count": 36,
   "id": "d22dbadc",
   "metadata": {},
   "outputs": [
    {
     "data": {
      "text/plain": [
       "0.7536413758722798"
      ]
     },
     "execution_count": 36,
     "metadata": {},
     "output_type": "execute_result"
    }
   ],
   "source": [
    "t_test_val, p_val = ttest_1samp(ages, 61)\n",
    "p_val"
   ]
  },
  {
   "cell_type": "code",
   "execution_count": 62,
   "id": "8ee34080",
   "metadata": {},
   "outputs": [],
   "source": [
    "# set my hypothesis if < .5 then not set true, else set false\n",
    "def calc(p_val):\n",
    "    if p_val < 0.05:\n",
    "        print('alternate hypothesis selected')\n",
    "    else:\n",
    "        print('null hypothesis selected')"
   ]
  },
  {
   "cell_type": "code",
   "execution_count": 63,
   "id": "7f5385a6",
   "metadata": {},
   "outputs": [
    {
     "name": "stdout",
     "output_type": "stream",
     "text": [
      "null hypothesis selected\n"
     ]
    }
   ],
   "source": [
    "calc(p_val)"
   ]
  },
  {
   "cell_type": "markdown",
   "id": "892fa4b8",
   "metadata": {},
   "source": [
    "## two sample ttest"
   ]
  },
  {
   "cell_type": "code",
   "execution_count": 51,
   "id": "9e1606b8",
   "metadata": {},
   "outputs": [],
   "source": [
    "childweight = stats.poisson.rvs(loc=27, mu =1, size= 10)"
   ]
  },
  {
   "cell_type": "code",
   "execution_count": 52,
   "id": "4df0e862",
   "metadata": {},
   "outputs": [
    {
     "data": {
      "text/plain": [
       "array([27, 28, 29, 27, 29, 29, 27, 28, 27, 28])"
      ]
     },
     "execution_count": 52,
     "metadata": {},
     "output_type": "execute_result"
    }
   ],
   "source": [
    "childweight"
   ]
  },
  {
   "cell_type": "code",
   "execution_count": 55,
   "id": "7dd1e910",
   "metadata": {},
   "outputs": [],
   "source": [
    "adultweight = stats.poisson.rvs(loc=57, mu = 1.5, size=10)"
   ]
  },
  {
   "cell_type": "code",
   "execution_count": 56,
   "id": "0d392fbf",
   "metadata": {},
   "outputs": [
    {
     "data": {
      "text/plain": [
       "array([59, 59, 58, 59, 60, 60, 59, 57, 58, 58])"
      ]
     },
     "execution_count": 56,
     "metadata": {},
     "output_type": "execute_result"
    }
   ],
   "source": [
    "adultweight"
   ]
  },
  {
   "cell_type": "code",
   "execution_count": 57,
   "id": "f3df5532",
   "metadata": {},
   "outputs": [],
   "source": [
    "# lets see the t_test between the adult value and child values\n",
    "from scipy.stats import ttest_ind"
   ]
  },
  {
   "cell_type": "code",
   "execution_count": 60,
   "id": "30e1a514",
   "metadata": {},
   "outputs": [],
   "source": [
    "t_result, p_result = ttest_ind(a= childweight, b= adultweight, equal_var= False)"
   ]
  },
  {
   "cell_type": "code",
   "execution_count": 64,
   "id": "a3a3d49d",
   "metadata": {},
   "outputs": [
    {
     "name": "stdout",
     "output_type": "stream",
     "text": [
      "alternate hypothesis selected\n"
     ]
    }
   ],
   "source": [
    "calc(p_result)"
   ]
  },
  {
   "cell_type": "code",
   "execution_count": 65,
   "id": "4612f0be",
   "metadata": {},
   "outputs": [
    {
     "data": {
      "text/plain": [
       "7.525475748886391e-24"
      ]
     },
     "execution_count": 65,
     "metadata": {},
     "output_type": "execute_result"
    }
   ],
   "source": [
    "p_result"
   ]
  },
  {
   "cell_type": "code",
   "execution_count": null,
   "id": "e19cfb96",
   "metadata": {},
   "outputs": [],
   "source": []
  },
  {
   "cell_type": "code",
   "execution_count": null,
   "id": "cca415d6",
   "metadata": {},
   "outputs": [],
   "source": []
  },
  {
   "cell_type": "markdown",
   "id": "006fa989",
   "metadata": {},
   "source": [
    "## when you want to check how different groups are from the same"
   ]
  },
  {
   "cell_type": "code",
   "execution_count": 66,
   "id": "7abf9007",
   "metadata": {},
   "outputs": [],
   "source": [
    "prev_weight = np.array([27, 28, 29, 27, 29, 29, 27, 28, 27, 28])"
   ]
  },
  {
   "cell_type": "code",
   "execution_count": 72,
   "id": "80b1d854",
   "metadata": {},
   "outputs": [],
   "source": [
    "new_weight = [int(x) for x in prev_weight + stats.norm.rvs(scale = 5, loc = -1.25, size = 10)]"
   ]
  },
  {
   "cell_type": "code",
   "execution_count": 76,
   "id": "760972f2",
   "metadata": {},
   "outputs": [],
   "source": [
    "new_weight = np.array(new_weight)"
   ]
  },
  {
   "cell_type": "code",
   "execution_count": 77,
   "id": "3526babd",
   "metadata": {},
   "outputs": [
    {
     "data": {
      "text/plain": [
       "dtype('int32')"
      ]
     },
     "execution_count": 77,
     "metadata": {},
     "output_type": "execute_result"
    }
   ],
   "source": [
    "new_weight.dtype"
   ]
  },
  {
   "cell_type": "code",
   "execution_count": 104,
   "id": "3a5895c9",
   "metadata": {},
   "outputs": [],
   "source": [
    "df1 = pd.DataFrame(prev_weight)\n",
    "df2 = pd.DataFrame(new_weight)"
   ]
  },
  {
   "cell_type": "code",
   "execution_count": 105,
   "id": "1ff0f9e9",
   "metadata": {},
   "outputs": [],
   "source": [
    "df = pd.concat([df1, df2], axis =1)"
   ]
  },
  {
   "cell_type": "code",
   "execution_count": 109,
   "id": "993fb8b0",
   "metadata": {},
   "outputs": [],
   "source": [
    "df.columns = ['old_weight', 'new_weight']"
   ]
  },
  {
   "cell_type": "code",
   "execution_count": 110,
   "id": "be7402d5",
   "metadata": {},
   "outputs": [
    {
     "data": {
      "text/html": [
       "<div>\n",
       "<style scoped>\n",
       "    .dataframe tbody tr th:only-of-type {\n",
       "        vertical-align: middle;\n",
       "    }\n",
       "\n",
       "    .dataframe tbody tr th {\n",
       "        vertical-align: top;\n",
       "    }\n",
       "\n",
       "    .dataframe thead th {\n",
       "        text-align: right;\n",
       "    }\n",
       "</style>\n",
       "<table border=\"1\" class=\"dataframe\">\n",
       "  <thead>\n",
       "    <tr style=\"text-align: right;\">\n",
       "      <th></th>\n",
       "      <th>old_weight</th>\n",
       "      <th>new_weight</th>\n",
       "    </tr>\n",
       "  </thead>\n",
       "  <tbody>\n",
       "    <tr>\n",
       "      <th>0</th>\n",
       "      <td>27</td>\n",
       "      <td>19</td>\n",
       "    </tr>\n",
       "    <tr>\n",
       "      <th>1</th>\n",
       "      <td>28</td>\n",
       "      <td>28</td>\n",
       "    </tr>\n",
       "    <tr>\n",
       "      <th>2</th>\n",
       "      <td>29</td>\n",
       "      <td>30</td>\n",
       "    </tr>\n",
       "    <tr>\n",
       "      <th>3</th>\n",
       "      <td>27</td>\n",
       "      <td>33</td>\n",
       "    </tr>\n",
       "    <tr>\n",
       "      <th>4</th>\n",
       "      <td>29</td>\n",
       "      <td>22</td>\n",
       "    </tr>\n",
       "    <tr>\n",
       "      <th>5</th>\n",
       "      <td>29</td>\n",
       "      <td>26</td>\n",
       "    </tr>\n",
       "    <tr>\n",
       "      <th>6</th>\n",
       "      <td>27</td>\n",
       "      <td>24</td>\n",
       "    </tr>\n",
       "    <tr>\n",
       "      <th>7</th>\n",
       "      <td>28</td>\n",
       "      <td>27</td>\n",
       "    </tr>\n",
       "    <tr>\n",
       "      <th>8</th>\n",
       "      <td>27</td>\n",
       "      <td>28</td>\n",
       "    </tr>\n",
       "    <tr>\n",
       "      <th>9</th>\n",
       "      <td>28</td>\n",
       "      <td>26</td>\n",
       "    </tr>\n",
       "  </tbody>\n",
       "</table>\n",
       "</div>"
      ],
      "text/plain": [
       "   old_weight  new_weight\n",
       "0          27          19\n",
       "1          28          28\n",
       "2          29          30\n",
       "3          27          33\n",
       "4          29          22\n",
       "5          29          26\n",
       "6          27          24\n",
       "7          28          27\n",
       "8          27          28\n",
       "9          28          26"
      ]
     },
     "execution_count": 110,
     "metadata": {},
     "output_type": "execute_result"
    }
   ],
   "source": [
    "df"
   ]
  },
  {
   "cell_type": "code",
   "execution_count": 111,
   "id": "377507b1",
   "metadata": {},
   "outputs": [],
   "source": [
    "# now lets find the ttest between the values of teh same table"
   ]
  },
  {
   "cell_type": "code",
   "execution_count": 112,
   "id": "9f693aaa",
   "metadata": {},
   "outputs": [],
   "source": [
    "_, p_val = stats.ttest_rel(a= df['old_weight'], b= df['new_weight'])"
   ]
  },
  {
   "cell_type": "code",
   "execution_count": 113,
   "id": "ea39b9d0",
   "metadata": {},
   "outputs": [
    {
     "name": "stdout",
     "output_type": "stream",
     "text": [
      "null hypothesis selected\n"
     ]
    }
   ],
   "source": [
    "calc(p_val)"
   ]
  },
  {
   "cell_type": "code",
   "execution_count": 114,
   "id": "6674d4c2",
   "metadata": {},
   "outputs": [
    {
     "data": {
      "text/plain": [
       "0.2442155499217641"
      ]
     },
     "execution_count": 114,
     "metadata": {},
     "output_type": "execute_result"
    }
   ],
   "source": [
    "p_val"
   ]
  },
  {
   "cell_type": "code",
   "execution_count": null,
   "id": "2446d650",
   "metadata": {},
   "outputs": [],
   "source": []
  }
 ],
 "metadata": {
  "kernelspec": {
   "display_name": "Python 3",
   "language": "python",
   "name": "python3"
  },
  "language_info": {
   "codemirror_mode": {
    "name": "ipython",
    "version": 3
   },
   "file_extension": ".py",
   "mimetype": "text/x-python",
   "name": "python",
   "nbconvert_exporter": "python",
   "pygments_lexer": "ipython3",
   "version": "3.8.8"
  }
 },
 "nbformat": 4,
 "nbformat_minor": 5
}
